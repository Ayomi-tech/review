{
 "cells": [
  {
   "cell_type": "code",
   "execution_count": 26,
   "metadata": {},
   "outputs": [],
   "source": [
    "import pandas as pd"
   ]
  },
  {
   "cell_type": "code",
   "execution_count": null,
   "metadata": {},
   "outputs": [],
   "source": []
  },
  {
   "cell_type": "code",
   "execution_count": 28,
   "metadata": {},
   "outputs": [
    {
     "data": {
      "text/html": [
       "<div>\n",
       "<style scoped>\n",
       "    .dataframe tbody tr th:only-of-type {\n",
       "        vertical-align: middle;\n",
       "    }\n",
       "\n",
       "    .dataframe tbody tr th {\n",
       "        vertical-align: top;\n",
       "    }\n",
       "\n",
       "    .dataframe thead th {\n",
       "        text-align: right;\n",
       "    }\n",
       "</style>\n",
       "<table border=\"1\" class=\"dataframe\">\n",
       "  <thead>\n",
       "    <tr style=\"text-align: right;\">\n",
       "      <th></th>\n",
       "      <th>Rank</th>\n",
       "      <th>Name</th>\n",
       "      <th>Platform</th>\n",
       "      <th>Year</th>\n",
       "      <th>Genre</th>\n",
       "      <th>Publisher</th>\n",
       "      <th>NA_Sales</th>\n",
       "      <th>EU_Sales</th>\n",
       "      <th>JP_Sales</th>\n",
       "      <th>Other_Sales</th>\n",
       "      <th>Global_Sales</th>\n",
       "    </tr>\n",
       "  </thead>\n",
       "  <tbody>\n",
       "    <tr>\n",
       "      <th>0</th>\n",
       "      <td>1</td>\n",
       "      <td>Wii Sports</td>\n",
       "      <td>Wii</td>\n",
       "      <td>2006.0</td>\n",
       "      <td>Sports</td>\n",
       "      <td>Nintendo</td>\n",
       "      <td>41.49</td>\n",
       "      <td>29.02</td>\n",
       "      <td>3.77</td>\n",
       "      <td>8.46</td>\n",
       "      <td>82.74</td>\n",
       "    </tr>\n",
       "    <tr>\n",
       "      <th>1</th>\n",
       "      <td>2</td>\n",
       "      <td>Super Mario Bros.</td>\n",
       "      <td>NES</td>\n",
       "      <td>1985.0</td>\n",
       "      <td>Platform</td>\n",
       "      <td>Nintendo</td>\n",
       "      <td>29.08</td>\n",
       "      <td>3.58</td>\n",
       "      <td>6.81</td>\n",
       "      <td>0.77</td>\n",
       "      <td>40.24</td>\n",
       "    </tr>\n",
       "    <tr>\n",
       "      <th>2</th>\n",
       "      <td>3</td>\n",
       "      <td>Mario Kart Wii</td>\n",
       "      <td>Wii</td>\n",
       "      <td>2008.0</td>\n",
       "      <td>Racing</td>\n",
       "      <td>Nintendo</td>\n",
       "      <td>15.85</td>\n",
       "      <td>12.88</td>\n",
       "      <td>3.79</td>\n",
       "      <td>3.31</td>\n",
       "      <td>35.82</td>\n",
       "    </tr>\n",
       "    <tr>\n",
       "      <th>3</th>\n",
       "      <td>4</td>\n",
       "      <td>Wii Sports Resort</td>\n",
       "      <td>Wii</td>\n",
       "      <td>2009.0</td>\n",
       "      <td>Sports</td>\n",
       "      <td>Nintendo</td>\n",
       "      <td>15.75</td>\n",
       "      <td>11.01</td>\n",
       "      <td>3.28</td>\n",
       "      <td>2.96</td>\n",
       "      <td>33.00</td>\n",
       "    </tr>\n",
       "    <tr>\n",
       "      <th>4</th>\n",
       "      <td>5</td>\n",
       "      <td>Pokemon Red/Pokemon Blue</td>\n",
       "      <td>GB</td>\n",
       "      <td>1996.0</td>\n",
       "      <td>Role-Playing</td>\n",
       "      <td>Nintendo</td>\n",
       "      <td>11.27</td>\n",
       "      <td>8.89</td>\n",
       "      <td>10.22</td>\n",
       "      <td>1.00</td>\n",
       "      <td>31.37</td>\n",
       "    </tr>\n",
       "  </tbody>\n",
       "</table>\n",
       "</div>"
      ],
      "text/plain": [
       "   Rank                      Name Platform    Year         Genre Publisher  \\\n",
       "0     1                Wii Sports      Wii  2006.0        Sports  Nintendo   \n",
       "1     2         Super Mario Bros.      NES  1985.0      Platform  Nintendo   \n",
       "2     3            Mario Kart Wii      Wii  2008.0        Racing  Nintendo   \n",
       "3     4         Wii Sports Resort      Wii  2009.0        Sports  Nintendo   \n",
       "4     5  Pokemon Red/Pokemon Blue       GB  1996.0  Role-Playing  Nintendo   \n",
       "\n",
       "   NA_Sales  EU_Sales  JP_Sales  Other_Sales  Global_Sales  \n",
       "0     41.49     29.02      3.77         8.46         82.74  \n",
       "1     29.08      3.58      6.81         0.77         40.24  \n",
       "2     15.85     12.88      3.79         3.31         35.82  \n",
       "3     15.75     11.01      3.28         2.96         33.00  \n",
       "4     11.27      8.89     10.22         1.00         31.37  "
      ]
     },
     "execution_count": 28,
     "metadata": {},
     "output_type": "execute_result"
    }
   ],
   "source": [
    "df = pd.read_csv('vgsales...csv')\n",
    "df.head()"
   ]
  },
  {
   "cell_type": "code",
   "execution_count": null,
   "metadata": {},
   "outputs": [],
   "source": []
  },
  {
   "cell_type": "raw",
   "metadata": {},
   "source": [
    "LIST"
   ]
  },
  {
   "cell_type": "code",
   "execution_count": 5,
   "metadata": {
    "scrolled": true
   },
   "outputs": [
    {
     "name": "stdout",
     "output_type": "stream",
     "text": [
      "[0, 0, 0, 0, 0]\n",
      "[0, 0, 0, 0, 0, 'a', 'b', 'c']\n",
      "[0, 1, 2, 3, 4, 5, 6, 7, 8, 9, 10, 11, 12, 13, 14, 15, 16, 17, 18, 19]\n",
      "['H', 'e', 'l', 'l', 'o', ' ', 'w', 'o', 'r', 'l', 'd']\n",
      "11\n"
     ]
    }
   ],
   "source": [
    "letters = ['a', 'b', 'c']\n",
    "\n",
    "matrix = [[0, 1], [2, 3]]\n",
    "\n",
    "zeros = [0] * 5  # we can use this to list 5 zeros or another other numbers\n",
    "\n",
    "print(zeros)\n",
    "\n",
    "combined = zeros + letters  # we can add lists together\n",
    "print(combined)\n",
    "\n",
    "numbers = list(range(20))\n",
    "print(numbers)\n",
    "\n",
    "chars = list('Hello world') # list can house string as well as integer\n",
    "print(chars)\n",
    "print(len(chars))"
   ]
  },
  {
   "cell_type": "code",
   "execution_count": 121,
   "metadata": {},
   "outputs": [
    {
     "name": "stdout",
     "output_type": "stream",
     "text": [
      "['A', 'b', 'c', 'd']\n",
      "['A', 'b', 'c']\n",
      "['A', 'b', 'c']\n",
      "['A', 'b', 'c', 'd']\n",
      "['b', 'c']\n"
     ]
    }
   ],
   "source": [
    "# SLICING LIST\n",
    "\n",
    "letters = ['a', 'b', 'c', 'd']\n",
    "\n",
    "letters[0] = 'A'  # this replace the value in position [0] to 'A'\n",
    "\n",
    "print(letters)\n",
    "\n",
    "print(letters[0:3])        # this print the value from index 0 to 2 and ignore 3\n",
    "print(letters[:3])         # this print value from index 0 to 2 and ignore 3\n",
    "print(letters[0:])         # print values from index 0 to end\n",
    "print(letters[1:3])        # print from value index of 1 to 2 and ignore 3\n"
   ]
  },
  {
   "cell_type": "raw",
   "metadata": {},
   "source": [
    "STEPS IN SLICING"
   ]
  },
  {
   "cell_type": "code",
   "execution_count": 39,
   "metadata": {},
   "outputs": [
    {
     "name": "stdout",
     "output_type": "stream",
     "text": [
      "[0, 1, 2, 3, 4, 5, 6, 7, 8, 9, 10, 11, 12, 13, 14, 15, 16, 17, 18, 19]\n",
      "[0, 2, 4, 6, 8, 10, 12, 14, 16, 18]\n",
      "[0, 3, 6, 9, 12, 15, 18]\n",
      "[0, 4, 8, 12, 16]\n",
      "[19, 17, 15, 13, 11, 9, 7, 5, 3, 1]\n"
     ]
    }
   ],
   "source": [
    "# STEPS IN SLICING\n",
    "# It skips result base on the slicing value... [::2]skips 1 values, [::3]skips\n",
    "\n",
    "\n",
    "numbers = list(range(20))\n",
    "\n",
    "print(numbers)\n",
    "print(numbers[::2])\n",
    "print(numbers[::3])\n",
    "print(numbers[::4])\n",
    "print(numbers[::-2])"
   ]
  },
  {
   "cell_type": "code",
   "execution_count": 38,
   "metadata": {},
   "outputs": [
    {
     "name": "stdout",
     "output_type": "stream",
     "text": [
      "0                  Wii Sports\n",
      "1           Super Mario Bros.\n",
      "2              Mario Kart Wii\n",
      "3           Wii Sports Resort\n",
      "4    Pokemon Red/Pokemon Blue\n",
      "Name: Name, dtype: object\n"
     ]
    }
   ],
   "source": [
    "# the below print statement are the same\n",
    "\n",
    "\n",
    "#print(df['Name'][0:5])\n",
    "print(df.Name[0:5])"
   ]
  },
  {
   "cell_type": "code",
   "execution_count": null,
   "metadata": {},
   "outputs": [],
   "source": []
  },
  {
   "cell_type": "raw",
   "metadata": {},
   "source": [
    "LIST UNPACKING\n",
    "Used to asign values from a list to different variables in a single line of code\n",
    "* is use to combine VALUES together."
   ]
  },
  {
   "cell_type": "code",
   "execution_count": 76,
   "metadata": {},
   "outputs": [],
   "source": [
    "\n",
    "packing = df.Name[0:5]\n",
    "\n",
    "first, second, third, *other =packing # assign values to first,second,third and the rest to other\n",
    "bo, yes, *others, go = packing # this assign values to bo, yes and the rest to others but the last value to go"
   ]
  },
  {
   "cell_type": "code",
   "execution_count": 51,
   "metadata": {},
   "outputs": [
    {
     "data": {
      "text/plain": [
       "['Wii Sports Resort', 'Pokemon Red/Pokemon Blue']"
      ]
     },
     "execution_count": 51,
     "metadata": {},
     "output_type": "execute_result"
    }
   ],
   "source": [
    "first\n",
    "second\n",
    "third\n",
    "other"
   ]
  },
  {
   "cell_type": "code",
   "execution_count": null,
   "metadata": {},
   "outputs": [],
   "source": []
  },
  {
   "cell_type": "raw",
   "metadata": {},
   "source": [
    "LOOPING OVER LISTS\n",
    "Enumerate() allows us to keep track of the number of iterations (loops) in a loop. The enumerate object contains a count (from the start, which always defaults to 0) and a value obtained from iterating over the iterable object"
   ]
  },
  {
   "cell_type": "code",
   "execution_count": 63,
   "metadata": {},
   "outputs": [
    {
     "name": "stdout",
     "output_type": "stream",
     "text": [
      "0 Wii Sports\n",
      "1 Super Mario Bros.\n",
      "2 Mario Kart Wii\n",
      "3 Wii Sports Resort\n",
      "4 Pokemon Red/Pokemon Blue\n"
     ]
    }
   ],
   "source": [
    "packing = df.Name[0:5]\n",
    "\n",
    "for index, letter in enumerate(packing):\n",
    "    print(index, letter)"
   ]
  },
  {
   "cell_type": "code",
   "execution_count": null,
   "metadata": {},
   "outputs": [],
   "source": []
  },
  {
   "cell_type": "raw",
   "metadata": {},
   "source": [
    "ADDING AND REMOVING VALUE FROM LIST"
   ]
  },
  {
   "cell_type": "code",
   "execution_count": 82,
   "metadata": {},
   "outputs": [
    {
     "name": "stdout",
     "output_type": "stream",
     "text": [
      "0                  Wii Sports\n",
      "1           Super Mario Bros.\n",
      "2              Mario Kart Wii\n",
      "3           Wii Sports Resort\n",
      "4    Pokemon Red/Pokemon Blue\n",
      "5                      soccer\n",
      "6                      soccer\n",
      "dtype: object\n"
     ]
    }
   ],
   "source": [
    "# Append is used to add value to the end of a dataframe\n",
    "\n",
    "new_row = pd.Series({'Name': 'soccer'})\n",
    "packing = packing.append(new_row, ignore_index=True)\n",
    "\n",
    "print(packing)\n"
   ]
  },
  {
   "cell_type": "code",
   "execution_count": 98,
   "metadata": {},
   "outputs": [],
   "source": [
    "letters = ['a', 'b', 'c', 'd']\n",
    "\n",
    "\n",
    "#ADD\n",
    "letters.append('e') # append add value to the end of a list\n",
    "letters.insert(6, 'f') # insert add value to the assign location as done here, f to index 6\n",
    "\n",
    "#REMOVE / DELETE\n",
    "letters.pop(0) # This remove value from index 0 from the list\n",
    "letters.remove('f') # This remove the value 'f' from the list\n",
    "del letters[0:2] # del is used to delete more than one value as seen in our example\n",
    "letters.clear() # this is used to clear all the values in a list"
   ]
  },
  {
   "cell_type": "code",
   "execution_count": 99,
   "metadata": {},
   "outputs": [
    {
     "data": {
      "text/plain": [
       "[]"
      ]
     },
     "execution_count": 99,
     "metadata": {},
     "output_type": "execute_result"
    }
   ],
   "source": [
    "letters"
   ]
  },
  {
   "cell_type": "raw",
   "metadata": {},
   "source": [
    "FINDING ITEMS IN LIST"
   ]
  },
  {
   "cell_type": "code",
   "execution_count": 120,
   "metadata": {},
   "outputs": [
    {
     "name": "stdout",
     "output_type": "stream",
     "text": [
      "0\n"
     ]
    }
   ],
   "source": [
    "letters = ['a', 'b', 'c', 'd']\n",
    "\n",
    "print(letters.count('f'))  #to know if 'f' exist, count can help us\n",
    "\n",
    "if 'f' in letters:\n",
    "    print(letters.index('f')) # we can also use loop to check if it exist\n"
   ]
  },
  {
   "cell_type": "code",
   "execution_count": 110,
   "metadata": {},
   "outputs": [
    {
     "name": "stdout",
     "output_type": "stream",
     "text": [
      "0                  Wii Sports\n",
      "1           Super Mario Bros.\n",
      "2              Mario Kart Wii\n",
      "3           Wii Sports Resort\n",
      "4    Pokemon Red/Pokemon Blue\n",
      "5                      soccer\n",
      "6                      soccer\n",
      "dtype: object\n"
     ]
    }
   ],
   "source": [
    "print(packing)"
   ]
  },
  {
   "cell_type": "code",
   "execution_count": 133,
   "metadata": {},
   "outputs": [
    {
     "name": "stdout",
     "output_type": "stream",
     "text": [
      "[3, 15, 2, 9, 6]\n",
      "[2, 3, 6, 9, 15]\n",
      "[15, 9, 6, 3, 2]\n"
     ]
    }
   ],
   "source": [
    "# SORTING LISTS\n",
    "\n",
    "numbers= [3, 15, 2, 9, 6]\n",
    "\n",
    "print(numbers)\n",
    "\n",
    "print(sorted(numbers))\n",
    "\n",
    "print(sorted(numbers, reverse= True))"
   ]
  },
  {
   "cell_type": "code",
   "execution_count": 144,
   "metadata": {},
   "outputs": [
    {
     "name": "stdout",
     "output_type": "stream",
     "text": [
      "[('product3', 9), ('product1', 10), ('product2', 13)]\n"
     ]
    }
   ],
   "source": [
    "# Sorting complex objectts... we are sorting item based on object in index [1] which is either, 10, 13, or 9.\n",
    "\n",
    "item = [ ('product1', 10), ('product2', 13), ('product3', 9) ]\n",
    "\n",
    "def sort_item(item):\n",
    "    return item[1]\n",
    "\n",
    "#sort_item(item)\n",
    "item.sort(key= sort_item)\n",
    "print(item)"
   ]
  },
  {
   "cell_type": "raw",
   "metadata": {},
   "source": [
    "LIST COMPREHENSION, List comprehension code is more readable than map and lambda"
   ]
  },
  {
   "cell_type": "code",
   "execution_count": 173,
   "metadata": {},
   "outputs": [
    {
     "name": "stdout",
     "output_type": "stream",
     "text": [
      "[10, 13, 9]\n"
     ]
    }
   ],
   "source": [
    "# Extracting values\n",
    "item = [ ('product1', 10), ('product2', 13), ('product3', 9) ]\n",
    "\n",
    "com_i_item = [item[1] for item in items]\n",
    "print(com_i_item)"
   ]
  },
  {
   "cell_type": "code",
   "execution_count": 178,
   "metadata": {},
   "outputs": [
    {
     "name": "stdout",
     "output_type": "stream",
     "text": [
      "[('product1', 10), ('product2', 13)]\n"
     ]
    }
   ],
   "source": [
    "#Filtered\n",
    "\n",
    "item = [ ('product1', 10), ('product2', 13), ('product3', 9) ]\n",
    "\n",
    "com_filtered= [item for item in items if item[1]> 9 ]\n",
    "\n",
    "print(com_filtered)"
   ]
  },
  {
   "cell_type": "code",
   "execution_count": null,
   "metadata": {},
   "outputs": [],
   "source": []
  },
  {
   "cell_type": "code",
   "execution_count": 143,
   "metadata": {},
   "outputs": [
    {
     "name": "stdout",
     "output_type": "stream",
     "text": [
      "[('product3', 9), ('product1', 10), ('product2', 13)]\n"
     ]
    }
   ],
   "source": [
    "# LAMBDA FUUNTIONS...we are sorting item based on object in index [1] which is either, 10, 13, or 9.\n",
    "\n",
    "\n",
    "item = [ ('product1', 10), ('product2', 13), ('product3', 9) ]\n",
    "\n",
    "item.sort(key= lambda item: item[1])\n",
    "print(item)\n"
   ]
  },
  {
   "cell_type": "code",
   "execution_count": 149,
   "metadata": {
    "scrolled": true
   },
   "outputs": [
    {
     "name": "stdout",
     "output_type": "stream",
     "text": [
      "['product1', 'product2', 'product3']\n",
      "[[10], [13], [9]]\n"
     ]
    }
   ],
   "source": [
    "# Iterate through list orr article and prices\n",
    "items = [ ('product1', 10), ('product2', 13), ('product3', 9) ]\n",
    "\n",
    "\n",
    "article= []\n",
    "prices = []\n",
    "\n",
    "\n",
    "for item in items:\n",
    "    article.append(item[0])\n",
    "    prices.append([item[1]])\n",
    "    \n",
    "print(article)    \n",
    "print(prices)"
   ]
  },
  {
   "cell_type": "raw",
   "metadata": {},
   "source": [
    "SLICING LIST"
   ]
  },
  {
   "cell_type": "raw",
   "metadata": {},
   "source": [
    "MAP FUNCTIONS....\n",
    "The map() function returns a map object (an iterator) of the results after applying the specified function to each element of a given iteration (list, tuple, etc.)."
   ]
  },
  {
   "cell_type": "raw",
   "metadata": {},
   "source": [
    "Break down of the code: we are working with the map and lambda functions. \n",
    "'lambda x', so for 'lambda x' in items, we \n",
    "need only the first value from each tuples, so x[0] from items.\n",
    "and we have to list our output. list(output)\n",
    "\n",
    "a_s = list(map(lambda x: x[0], items))\n",
    "\n",
    "a_s"
   ]
  },
  {
   "cell_type": "code",
   "execution_count": 156,
   "metadata": {},
   "outputs": [
    {
     "name": "stdout",
     "output_type": "stream",
     "text": [
      "[10, 13, 9]\n"
     ]
    }
   ],
   "source": [
    "#MAP FUNCTIONS.... Extracting the price of each items from the list.\n",
    "\n",
    "items = [ ('product1', 10), ('product2', 13), ('product3', 9) ]\n",
    "\n",
    "price = list(map(lambda item: item[1], items))\n",
    "\n",
    "print(price)"
   ]
  },
  {
   "cell_type": "code",
   "execution_count": 168,
   "metadata": {},
   "outputs": [
    {
     "name": "stdout",
     "output_type": "stream",
     "text": [
      "[('product1', 10), ('product2', 13)]\n",
      "('product2', 13)\n"
     ]
    }
   ],
   "source": [
    "#FILTERING FUNCTION... to filte items greater than 9\n",
    "\n",
    "items = [ ('product1', 10), ('product2', 13), ('product3', 9) ]\n",
    "\n",
    "filtered = list(filter(lambda item: item[1] > 9, items))\n",
    "\n",
    "print(filtered)\n",
    "print(filtered[1])"
   ]
  },
  {
   "cell_type": "code",
   "execution_count": 170,
   "metadata": {},
   "outputs": [
    {
     "name": "stdout",
     "output_type": "stream",
     "text": [
      "[2, 4, 6, 8]\n"
     ]
    }
   ],
   "source": [
    "def addition(n):\n",
    "    return n + n\n",
    " \n",
    "# We double all numbers using map()\n",
    "numbers = (1, 2, 3, 4)\n",
    "result = map(addition, numbers)\n",
    "print(list(result))"
   ]
  },
  {
   "cell_type": "code",
   "execution_count": 183,
   "metadata": {},
   "outputs": [
    {
     "name": "stdout",
     "output_type": "stream",
     "text": [
      "[(1, 4, 7), (2, 5, 8), (3, 6, 9)]\n"
     ]
    }
   ],
   "source": [
    "#ZIP FUNCTIONS\n",
    "\n",
    "# Combining two list to a tuple base on index of the list\n",
    "\n",
    "list1 = [1, 2, 3]\n",
    "list2 = [4, 5, 6]\n",
    "\n",
    "zip_fun= list(zip(list1, list2))\n",
    "\n",
    "zip_fun= list(zip(list1, list2, [7, 8, 9])) # you can also add more list manually\n",
    "print(zip_fun)\n",
    "\n",
    "\n"
   ]
  },
  {
   "cell_type": "raw",
   "metadata": {},
   "source": [
    "# TUPLES ()\n",
    "Is read only list that we cannot modified a new onject to it, we can't add or remove any object  \n"
   ]
  },
  {
   "cell_type": "code",
   "execution_count": 201,
   "metadata": {},
   "outputs": [
    {
     "name": "stdout",
     "output_type": "stream",
     "text": [
      "<class 'tuple'>\n",
      "Concatination: (1, 2, 9, 3, 4)\n",
      "pultiply: (1, 2, 1, 2, 1, 2, 1, 2)\n",
      "to_list: [1, 2]\n",
      "index: 2\n"
     ]
    }
   ],
   "source": [
    "point = (1, 2) #it can also be define without parenthesis like point = 1, 2 \n",
    "\n",
    "print(type(point))\n",
    "\n",
    "\n",
    "point = (1, 2, 9) + (3, 4) # we can also concatenate tuples\n",
    "print(\"Concatination:\", point)\n",
    "\n",
    "\n",
    "point = (1, 2) * 4 # we can also multiply to repeat a tuple\n",
    "print(\"pultiply:\", point)\n",
    "\n",
    "\n",
    "point = list((1, 2)) # we can convert tuple to list as we can convert list to tuples tuples([10, 12])\n",
    "print(\"to_list:\", point)\n",
    "\n",
    "\n",
    "point = (1, 2, 9) # we can also access tuples with indexing\n",
    "print('index:', point[1])"
   ]
  },
  {
   "cell_type": "code",
   "execution_count": 208,
   "metadata": {},
   "outputs": [
    {
     "name": "stdout",
     "output_type": "stream",
     "text": [
      "x 10 y 9\n"
     ]
    }
   ],
   "source": [
    "#SWAPPING VARIABLES\n",
    "\n",
    "x = 9\n",
    "\n",
    "y = 10\n",
    "\n",
    "x , y = y , x # it is also the same as (y , x)\n",
    "\n",
    "print(\"x\", x, \"y\", y)"
   ]
  },
  {
   "cell_type": "code",
   "execution_count": null,
   "metadata": {},
   "outputs": [],
   "source": [
    "#ARRAYS.... An array is a special variable, which can hold more than one value at a time.\n",
    "\n"
   ]
  },
  {
   "cell_type": "raw",
   "metadata": {},
   "source": [
    "#SETS... Sets are used to store multiple items in a single variable.Once a set is created, you cannot change its items, but you can remove items and add new items. And cannot be access with indexing."
   ]
  },
  {
   "cell_type": "code",
   "execution_count": 222,
   "metadata": {
    "scrolled": true
   },
   "outputs": [
    {
     "name": "stdout",
     "output_type": "stream",
     "text": [
      "distinct {1, 2, 3, 4}\n",
      "union {1, 2, 3, 4, 5}\n",
      "intersection {1, 2}\n",
      "diff {3, 4}\n",
      "{1, 2}\n",
      "semantic {3, 4, 5}\n",
      "yes\n"
     ]
    }
   ],
   "source": [
    "numbers = [1, 1, 2, 3, 4]\n",
    "first = set(numbers) # set get us the distinct values of our data.\n",
    "print(\"distinct\", first)\n",
    "\n",
    "second = {1, 2, 5}\n",
    "\n",
    "union = first | second # getting the union of two set\n",
    "print(\"union\", union)\n",
    "\n",
    "intersection = first & second # getting values that are in first and second set.\n",
    "print(\"intersection\", intersection)\n",
    "\n",
    "diff = first - second # getting difference between first and second set.\n",
    "print(\"diff\", diff)\n",
    "\n",
    "intersection = first & second # getting values that are in first and second set.\n",
    "print(intersection)\n",
    "\n",
    "sem_dif = first ^ second # getting semantic difference values that are in first and second set.\n",
    "print(\"semantic\", sem_dif)\n",
    "\n",
    "if 1 in second:  # We can check for an existance of a value in set.\n",
    "    print('yes')"
   ]
  },
  {
   "cell_type": "code",
   "execution_count": 234,
   "metadata": {},
   "outputs": [
    {
     "name": "stdout",
     "output_type": "stream",
     "text": [
      "{'x': 1, 'y': 2}\n",
      "{'x': 10, 'y': 2, 'z': 20}\n",
      "{'y': 2, 'z': 20}\n",
      "y 2\n",
      "z 20\n"
     ]
    }
   ],
   "source": [
    "#DICTIONARY dict()... KEY AND VALUE PAIRS. we can add items and also remove the existing ones\n",
    "\n",
    "point = dict(x=1, y=2)\n",
    "print(point)\n",
    "\n",
    "point['x']  = 10 # change the value of x from 1 to 10\n",
    "\n",
    "point['z'] = 20 # add another key and value to the data called point\n",
    "print(point)\n",
    "\n",
    "if 'a' in point:   # to check if 'a' exist in out data\n",
    "    print('a')\n",
    "    \n",
    "del point['x'] # delete 'x' and its value from the data\n",
    "print(point)\n",
    "\n",
    "\n",
    "for key, value in point.items(): # iterating through dictionary\n",
    "    print(key, value)\n"
   ]
  },
  {
   "cell_type": "code",
   "execution_count": 236,
   "metadata": {},
   "outputs": [
    {
     "name": "stdout",
     "output_type": "stream",
     "text": [
      "{0: 0, 1: 2, 2: 4, 3: 6, 4: 8}\n"
     ]
    }
   ],
   "source": [
    "#DICTIONARY COMPREHENSION\n",
    "\n",
    "\n",
    "values= {x: x*2 for x in range(5)}\n",
    "print(values)"
   ]
  },
  {
   "cell_type": "raw",
   "metadata": {},
   "source": [
    "GENERATOR EXPRESSIONS: Situation when you are dealing with a really large dataset, use a generator expression to create a genrator object. using of parenthesis around a comprehension expression... because Genrator expression didnot store all the item in memory, we wont be able to get the total number of items you are working with. we cannot len() the generator expression."
   ]
  },
  {
   "cell_type": "code",
   "execution_count": 242,
   "metadata": {},
   "outputs": [
    {
     "name": "stdout",
     "output_type": "stream",
     "text": [
      "Gen_expre 128\n",
      "List 824472\n"
     ]
    }
   ],
   "source": [
    "from sys import getsizeof\n",
    "\n",
    "values = (x *2 for x in range(100000)) #Generator expression same memory\n",
    "print(\"Gen_expre\",getsizeof(values))\n",
    "\n",
    "\n",
    "values = [x *2 for x in range(100000)] # List Comprehension\n",
    "print(\"List\", getsizeof(values))\n"
   ]
  },
  {
   "cell_type": "code",
   "execution_count": 253,
   "metadata": {},
   "outputs": [
    {
     "name": "stdout",
     "output_type": "stream",
     "text": [
      "('i', 5)\n"
     ]
    }
   ],
   "source": [
    "#TASK get the most common/ appeared in sentence.\n",
    "\n",
    "sentence = \"This is a common interview question\"\n",
    "\n",
    "char_frequency = {}\n",
    "\n",
    "for char in sentence:\n",
    "    if char in char_frequency:\n",
    "        \n",
    "        char_frequency[char] += 1\n",
    "        \n",
    "    else:\n",
    "        char_frequency[char] = 1\n",
    "        \n",
    "char_frequency_sorted = sorted(char_frequency.items(), key=lambda kv: kv[1], reverse=True)        \n",
    "        \n",
    "        \n",
    "print(char_frequency_sorted[0])"
   ]
  },
  {
   "cell_type": "code",
   "execution_count": null,
   "metadata": {},
   "outputs": [],
   "source": []
  },
  {
   "cell_type": "code",
   "execution_count": null,
   "metadata": {},
   "outputs": [],
   "source": []
  },
  {
   "cell_type": "code",
   "execution_count": null,
   "metadata": {},
   "outputs": [],
   "source": []
  }
 ],
 "metadata": {
  "kernelspec": {
   "display_name": "Python 3",
   "language": "python",
   "name": "python3"
  },
  "language_info": {
   "codemirror_mode": {
    "name": "ipython",
    "version": 3
   },
   "file_extension": ".py",
   "mimetype": "text/x-python",
   "name": "python",
   "nbconvert_exporter": "python",
   "pygments_lexer": "ipython3",
   "version": "3.7.6"
  }
 },
 "nbformat": 4,
 "nbformat_minor": 4
}
