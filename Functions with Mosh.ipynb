{
 "cells": [
  {
   "cell_type": "raw",
   "metadata": {},
   "source": [
    "FUNTIONS.\n"
   ]
  },
  {
   "cell_type": "raw",
   "metadata": {},
   "source": [
    "A parameter is the input that you define for your function.\n",
    "An argument is the actual value for a given parameter.\n",
    "\n",
    "formated string: Used to add meaning or content to output... print(f\"hard it is:\" output)"
   ]
  },
  {
   "cell_type": "code",
   "execution_count": 4,
   "metadata": {},
   "outputs": [],
   "source": [
    "tf= ['uncle', 'aunty', 1, 3, 5]"
   ]
  },
  {
   "cell_type": "code",
   "execution_count": 13,
   "metadata": {},
   "outputs": [
    {
     "name": "stdout",
     "output_type": "stream",
     "text": [
      "uncle is one of my family\n"
     ]
    }
   ],
   "source": [
    "def test():\n",
    "    for u in tf:\n",
    "        if u == 'uncle':\n",
    "            print(u, f\"is one of my family\")\n",
    "            return\n",
    "test()        "
   ]
  },
  {
   "cell_type": "code",
   "execution_count": null,
   "metadata": {},
   "outputs": [],
   "source": []
  },
  {
   "cell_type": "code",
   "execution_count": 22,
   "metadata": {},
   "outputs": [
    {
     "name": "stdout",
     "output_type": "stream",
     "text": [
      "Hi Ayo Jolly\n",
      "heklich willkomen\n"
     ]
    }
   ],
   "source": [
    "def great(first_name, last_name):\n",
    "    print( f\"Hi {first_name} {last_name}\")\n",
    "    print(f\"heklich willkomen\")\n",
    "\n",
    "great(\"Ayo\" ,\"Jolly\")"
   ]
  },
  {
   "cell_type": "code",
   "execution_count": null,
   "metadata": {},
   "outputs": [],
   "source": []
  },
  {
   "cell_type": "raw",
   "metadata": {},
   "source": [
    "RETURN FUNCTION\n"
   ]
  },
  {
   "cell_type": "code",
   "execution_count": 32,
   "metadata": {},
   "outputs": [
    {
     "data": {
      "text/plain": [
       "'Hey Jolade'"
      ]
     },
     "execution_count": 32,
     "metadata": {},
     "output_type": "execute_result"
    }
   ],
   "source": [
    "# Return the value of the argument\n",
    "\n",
    "def get_name(name):\n",
    "    return f\"Hey {name}\"\n",
    "\n",
    "get_name(\"Jolade\")"
   ]
  },
  {
   "cell_type": "code",
   "execution_count": 28,
   "metadata": {},
   "outputs": [],
   "source": [
    "# We can also save the output to a variable to reuseable.\n",
    "\n",
    "def get_name(name):\n",
    "    return f\"Hey {name}\"\n",
    "\n",
    "oruko = get_name(\"Jolade\")"
   ]
  },
  {
   "cell_type": "code",
   "execution_count": 29,
   "metadata": {},
   "outputs": [
    {
     "data": {
      "text/plain": [
       "'Hey Jolade'"
      ]
     },
     "execution_count": 29,
     "metadata": {},
     "output_type": "execute_result"
    }
   ],
   "source": [
    "oruko"
   ]
  },
  {
   "cell_type": "code",
   "execution_count": 30,
   "metadata": {},
   "outputs": [
    {
     "data": {
      "text/plain": [
       "5"
      ]
     },
     "execution_count": 30,
     "metadata": {},
     "output_type": "execute_result"
    }
   ],
   "source": [
    "# We can also write it to a file\n",
    "\n",
    "def get_name(name):\n",
    "    return f\"Hey {name}\"\n",
    "\n",
    "oruko = get_name(\"Jolade\")\n",
    "\n",
    "file = open(\"content.txt\", \"w\")\n",
    "file.write(\"oruko\")"
   ]
  },
  {
   "cell_type": "raw",
   "metadata": {},
   "source": [
    "Keyword Arguments\n"
   ]
  },
  {
   "cell_type": "code",
   "execution_count": 34,
   "metadata": {},
   "outputs": [
    {
     "name": "stdout",
     "output_type": "stream",
     "text": [
      "3\n"
     ]
    }
   ],
   "source": [
    "def increment(number, by):\n",
    "    return number + by\n",
    "\n",
    "print(increment(2 ,by=1))"
   ]
  },
  {
   "cell_type": "raw",
   "metadata": {},
   "source": [
    "DEFAULTS ARGUEMENTS.\n",
    "\n",
    "This is by setting a default value for our increment based on the below example.\n",
    "But you can still pass another value for the increment when calling the funtion if you like.\n",
    "-- optioanl parameter are to come after d require parameter. def sum(a, b, c, d, e=3)"
   ]
  },
  {
   "cell_type": "code",
   "execution_count": 8,
   "metadata": {},
   "outputs": [
    {
     "name": "stdout",
     "output_type": "stream",
     "text": [
      "5\n",
      "23\n"
     ]
    }
   ],
   "source": [
    "def increment(number , by=2):\n",
    "    return number + by\n",
    "\n",
    "print(increment(3)) #This work with the defined increment value.\n",
    "print(increment(3, 20)) # we passed another value for increment here."
   ]
  },
  {
   "cell_type": "raw",
   "metadata": {},
   "source": [
    "*ARGS\n",
    "Multiply functions takes only two parameters, so we have to pass a asterisk and our defined word like (*num). this mean we can pass a list of number when calling our function."
   ]
  },
  {
   "cell_type": "code",
   "execution_count": 13,
   "metadata": {},
   "outputs": [
    {
     "data": {
      "text/plain": [
       "120"
      ]
     },
     "execution_count": 13,
     "metadata": {},
     "output_type": "execute_result"
    }
   ],
   "source": [
    "def multiply(*numbers):\n",
    "    total = 1\n",
    "    for num in numbers:\n",
    "        #total = total * num      this longs longer so we use the beneath code\n",
    "        total *= num\n",
    "    return total    \n",
    "    \n",
    "multiply(2, 3, 4, 5)    "
   ]
  },
  {
   "cell_type": "raw",
   "metadata": {},
   "source": [
    "**ARGS\n",
    "\n",
    "When we pass double ** to our parameter, it allows us to pass multiple value pairs and multiple key worrd arguements to a function. and python will automatically packaged them into a dictionary.\n",
    " \n",
    "\n"
   ]
  },
  {
   "cell_type": "code",
   "execution_count": 20,
   "metadata": {},
   "outputs": [
    {
     "name": "stdout",
     "output_type": "stream",
     "text": [
      "{'id': 1, 'name': 'Boy', 'age': 20}\n"
     ]
    }
   ],
   "source": [
    "def save_user(**user):\n",
    "    print(user)\n",
    "    \n",
    "\n",
    "save_user(id=1, name= 'Boy', age= 20 )    \n"
   ]
  },
  {
   "cell_type": "code",
   "execution_count": 21,
   "metadata": {},
   "outputs": [
    {
     "name": "stdout",
     "output_type": "stream",
     "text": [
      "Boy\n"
     ]
    }
   ],
   "source": [
    "# We can also get the value of various keys from the dictionary\n",
    "\n",
    "def save_user(**user):\n",
    "    print(user['name'])\n",
    "    \n",
    "\n",
    "save_user(id=1, name= 'Boy', age= 20 )   "
   ]
  },
  {
   "cell_type": "raw",
   "metadata": {},
   "source": [
    "SCOPE \n",
    "This has to do witn global and local variable. \n",
    "I need more explanation and information about this topic"
   ]
  },
  {
   "cell_type": "code",
   "execution_count": 26,
   "metadata": {},
   "outputs": [
    {
     "name": "stdout",
     "output_type": "stream",
     "text": [
      "Ayo\n"
     ]
    }
   ],
   "source": [
    "def great(name):\n",
    "    message = 'a'\n",
    "print('Ayo')"
   ]
  },
  {
   "cell_type": "code",
   "execution_count": null,
   "metadata": {},
   "outputs": [],
   "source": []
  },
  {
   "cell_type": "code",
   "execution_count": null,
   "metadata": {},
   "outputs": [],
   "source": []
  },
  {
   "cell_type": "raw",
   "metadata": {},
   "source": [
    "TASKS\n",
    "FIZZ_BUZZ\n",
    "'FizzBuzz' when input is devisible by 3 and 5\n",
    "'Fizz'  when input is divisible by 3\n",
    "'buzz' when input is divisible by 5.\n",
    "IF divisible by other numbers then return the input."
   ]
  },
  {
   "cell_type": "code",
   "execution_count": 49,
   "metadata": {},
   "outputs": [
    {
     "name": "stdout",
     "output_type": "stream",
     "text": [
      "FizzBuzz\n"
     ]
    }
   ],
   "source": [
    "def fizz_buzz(input):\n",
    "    if (input % 3 == 0) and (input % 5 == 0):\n",
    "        return 'FizzBuzz'\n",
    "    \n",
    "    if input % 3 == 0:\n",
    "        return 'Fizz'\n",
    "            \n",
    "    if input % 5 ==0:\n",
    "        return'buzz'\n",
    "    \n",
    "    return input\n",
    "                \n",
    "print(fizz_buzz(150))                "
   ]
  },
  {
   "cell_type": "code",
   "execution_count": null,
   "metadata": {},
   "outputs": [],
   "source": []
  },
  {
   "cell_type": "code",
   "execution_count": null,
   "metadata": {},
   "outputs": [],
   "source": []
  },
  {
   "cell_type": "code",
   "execution_count": null,
   "metadata": {},
   "outputs": [],
   "source": []
  },
  {
   "cell_type": "code",
   "execution_count": null,
   "metadata": {},
   "outputs": [],
   "source": []
  },
  {
   "cell_type": "code",
   "execution_count": null,
   "metadata": {},
   "outputs": [],
   "source": []
  },
  {
   "cell_type": "code",
   "execution_count": null,
   "metadata": {},
   "outputs": [],
   "source": []
  },
  {
   "cell_type": "code",
   "execution_count": null,
   "metadata": {},
   "outputs": [],
   "source": []
  },
  {
   "cell_type": "code",
   "execution_count": null,
   "metadata": {},
   "outputs": [],
   "source": []
  },
  {
   "cell_type": "code",
   "execution_count": null,
   "metadata": {},
   "outputs": [],
   "source": []
  }
 ],
 "metadata": {
  "kernelspec": {
   "display_name": "Python 3",
   "language": "python",
   "name": "python3"
  },
  "language_info": {
   "codemirror_mode": {
    "name": "ipython",
    "version": 3
   },
   "file_extension": ".py",
   "mimetype": "text/x-python",
   "name": "python",
   "nbconvert_exporter": "python",
   "pygments_lexer": "ipython3",
   "version": "3.7.6"
  }
 },
 "nbformat": 4,
 "nbformat_minor": 4
}
