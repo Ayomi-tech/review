{
 "cells": [
  {
   "cell_type": "raw",
   "metadata": {},
   "source": [
    "Single-responsibility principle (SRP)\n",
    "Open–closed principle (OCP)\n",
    "Liskov substitution principle (LSP)\n",
    "Interface segregation principle (ISP)\n",
    "Dependency inversion principle (DIP)\n",
    "\n",
    "URL: https://www.youtube.com/watch?v=ZkknJI3QMss&ab_channel=EricRoby"
   ]
  },
  {
   "cell_type": "raw",
   "metadata": {},
   "source": [
    "EXAMPLES:"
   ]
  },
  {
   "cell_type": "code",
   "execution_count": 2,
   "metadata": {
    "scrolled": true
   },
   "outputs": [
    {
     "name": "stdout",
     "output_type": "stream",
     "text": [
      "The blue car has 20,000 miles\n",
      "The red car has 30,000 miles\n"
     ]
    }
   ],
   "source": [
    "# CARS\n",
    "\n",
    "class Car:\n",
    "    def __init__(self, color, mileage):\n",
    "        self.color = color\n",
    "        self.mileage = mileage\n",
    "\n",
    "    def __str__(self):\n",
    "        return f\"The {self.color} car has {self.mileage:,} miles\"\n",
    "\n",
    "\n",
    "blue_car = Car(color=\"blue\", mileage=20_000)\n",
    "red_car = Car(color=\"red\", mileage=30_000)\n",
    "\n",
    "for car in (blue_car, red_car):\n",
    "    print(car)\n"
   ]
  },
  {
   "cell_type": "code",
   "execution_count": null,
   "metadata": {},
   "outputs": [],
   "source": []
  },
  {
   "cell_type": "code",
   "execution_count": 36,
   "metadata": {},
   "outputs": [
    {
     "name": "stdout",
     "output_type": "stream",
     "text": [
      "Puppy is 12 years old and Puppy says Popo\n",
      "My dog Puppy is 5 years old\n"
     ]
    }
   ],
   "source": [
    "# Single responsibility\n",
    "#Dogs   \n",
    "\n",
    "class Dog:\n",
    "    species = \"Canis familiaris\"\n",
    "\n",
    "    def __init__(self, name, age):\n",
    "        self.name = name\n",
    "        self.age = age\n",
    "\n",
    "    def __str__(self):\n",
    "        return f\"{self.name} is {self.age} years old\"\n",
    "\n",
    "    def speak(self, sound):\n",
    "        return f\"{self.name} says {sound}\"\n",
    "    \n",
    "    \n",
    "my_dog= Dog(name='Puppy', age=12) \n",
    "print(my_dog, \"and\", my_dog.speak('Popo')) #Is it right for me to add the sound manually or I av to define it?\n",
    "\n",
    "my_dog.age = 5    # I can the age of my dog to 5 years by using .age\n",
    "print(f\"My dog\", my_dog)"
   ]
  },
  {
   "cell_type": "code",
   "execution_count": null,
   "metadata": {},
   "outputs": [],
   "source": []
  },
  {
   "cell_type": "code",
   "execution_count": 74,
   "metadata": {},
   "outputs": [
    {
     "name": "stdout",
     "output_type": "stream",
     "text": [
      "Bull is 30 years old and  Bull barks: Arf\n",
      "Tim is 17 years old\n"
     ]
    }
   ],
   "source": [
    "# This class of Dog is well defined in compare to the above code.\n",
    "class Dog:\n",
    "    species = \"Canis familiaris\"\n",
    "\n",
    "    def __init__(self, name, age):\n",
    "        self.name = name\n",
    "        self.age = age\n",
    "\n",
    "    def __str__(self):\n",
    "        return f\"{self.name} is {self.age} years old\"\n",
    "\n",
    "    def speak(self, sound):\n",
    "        return f\"{self.name} barks: {sound}\"\n",
    "\n",
    "# JackRussellTerrier, Dachshund, and Bulldog inherite all the attribute and method from 'Dog class' \n",
    "# and use super() to override sound from 'speak' method or 'object'.\n",
    "\n",
    "class JackRussellTerrier(Dog):\n",
    "    def speak(self, sound=\"Arf\"):\n",
    "        return super().speak(sound)\n",
    "\n",
    "\n",
    "class Dachshund(Dog):\n",
    "    pass\n",
    "\n",
    "\n",
    "class Bulldog(Dog):\n",
    "    pass\n",
    "\n",
    "\n",
    "jk_dog= JackRussellTerrier('Bull', 30)\n",
    "print(jk_dog,f\"and \", jk_dog.speak())\n",
    "\n",
    "tim = Dachshund('Tim', 17)\n",
    "print(tim)"
   ]
  },
  {
   "cell_type": "code",
   "execution_count": 38,
   "metadata": {},
   "outputs": [
    {
     "name": "stdout",
     "output_type": "stream",
     "text": [
      "Max is 5 years old\n",
      "Max says Bark\n"
     ]
    }
   ],
   "source": [
    "class Dog:\n",
    "    species = \"Canis familiaris\"\n",
    "\n",
    "    def __init__(self, name, age):\n",
    "        self.name = name\n",
    "        self.age = age\n",
    "\n",
    "    def __str__(self):\n",
    "        return f\"{self.name} is {self.age} years old\"\n",
    "\n",
    "    def speak(self, sound):\n",
    "        return f\"{self.name} says {sound}\"\n",
    "\n",
    "\n",
    "class GoldenRetriever(Dog):\n",
    "    def speak(self, sound=\"Bark\"):\n",
    "        return super().speak(sound)\n",
    "\n",
    "    \n",
    "golden = GoldenRetriever(\"Max\", 5)\n",
    "print(golden)  \n",
    "print(golden.speak())"
   ]
  },
  {
   "cell_type": "code",
   "execution_count": null,
   "metadata": {},
   "outputs": [],
   "source": []
  },
  {
   "cell_type": "code",
   "execution_count": 49,
   "metadata": {},
   "outputs": [
    {
     "name": "stdout",
     "output_type": "stream",
     "text": [
      "James Kirk 34 Captain 2265\n",
      "Spock 35\n"
     ]
    }
   ],
   "source": [
    "# Semployees as objects\n",
    "\n",
    "\n",
    "class Employee:\n",
    "    def __init__(self, name, age, position, year_started):\n",
    "        self.name = name\n",
    "        self.age = age\n",
    "        self.position = position\n",
    "        self.year_started = year_started\n",
    "\n",
    "\n",
    "kirk = Employee(\"James Kirk\", 34, \"Captain\", 2265)\n",
    "spock = Employee(\"Spock\", 35, \"Science Officer\", 2254)\n",
    "mccoy = Employee(\"Leonard McCoy\", 137, \"Chief Medical Officer\", 2266)\n",
    "\n",
    "print(kirk.name, kirk.age, kirk.position, kirk.year_started )\n",
    "print(spock.name, spock.age)"
   ]
  },
  {
   "cell_type": "code",
   "execution_count": 76,
   "metadata": {},
   "outputs": [
    {
     "name": "stdout",
     "output_type": "stream",
     "text": [
      "Ayodeji is working as Analyst and living in Berlin\n"
     ]
    }
   ],
   "source": [
    "class Family:\n",
    "    def __init__(self, name, beruf, location):\n",
    "        self.name = name\n",
    "        self.beruf = beruf\n",
    "        self.location = location\n",
    "        \n",
    "    def __str__(self):\n",
    "        return f\"{self.name} is working as {self.beruf} and living in {self.location}\"\n",
    "    \n",
    "\n",
    "ay= Family('Ayodeji', 'Analyst', 'Berlin')\n",
    "print(ay)"
   ]
  },
  {
   "cell_type": "code",
   "execution_count": null,
   "metadata": {},
   "outputs": [],
   "source": []
  }
 ],
 "metadata": {
  "kernelspec": {
   "display_name": "Python 3",
   "language": "python",
   "name": "python3"
  },
  "language_info": {
   "codemirror_mode": {
    "name": "ipython",
    "version": 3
   },
   "file_extension": ".py",
   "mimetype": "text/x-python",
   "name": "python",
   "nbconvert_exporter": "python",
   "pygments_lexer": "ipython3",
   "version": "3.7.6"
  }
 },
 "nbformat": 4,
 "nbformat_minor": 4
}
